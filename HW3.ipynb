{
 "cells": [
  {
   "cell_type": "code",
   "execution_count": 1,
   "metadata": {
    "scrolled": true
   },
   "outputs": [],
   "source": [
    "%load_ext autoreload\n",
    "from helper_functions import get_feature_data, get_label_data, calculate_accuracy\n",
    "from logistic import get_weight_matrix\n",
    "import numpy as np\n",
    "import pandas as pd\n",
    "from sklearn.preprocessing import normalize\n",
    "%matplotlib inline\n",
    "import matplotlib.pyplot as plt\n",
    "import matplotlib"
   ]
  },
  {
   "cell_type": "code",
   "execution_count": 2,
   "metadata": {
    "scrolled": true
   },
   "outputs": [],
   "source": [
    "c = get_label_data(\"t10k-labels-idx1-ubyte\")\n",
    "y = get_feature_data(\"t10k-images-idx3-ubyte\").T\n",
    "cTrain = get_label_data(\"train-labels-idx1-ubyte\")[:,:1000]\n",
    "yTrain = get_feature_data(\"train-images-idx3-ubyte\").T[:,:1000]\n",
    "y = np.matrix(normalize(y, axis=1))\n",
    "yTrain = np.matrix(normalize(yTrain, axis=1))\n",
    "m = y.shape[0]\n",
    "K = np.matrix(np.random.random((m, m)))\n",
    "w_init = np.matrix(np.random.random((c.shape[0], m)))"
   ]
  },
  {
   "cell_type": "code",
   "execution_count": 19,
   "metadata": {
    "scrolled": true
   },
   "outputs": [],
   "source": [
    "%autoreload\n",
    "from neural_net import Deep_NN, sigma\n",
    "layers = 10\n",
    "classifier = Deep_NN(cTrain, yTrain, layers = 5, alpha=0.75, beta=0.75, gamma=0.75, mat_init=\"random\")"
   ]
  },
  {
   "cell_type": "code",
   "execution_count": 20,
   "metadata": {
    "scrolled": false
   },
   "outputs": [],
   "source": [
    "classifier.fit(200, tolerance=0.001)"
   ]
  },
  {
   "cell_type": "code",
   "execution_count": 21,
   "metadata": {
    "scrolled": true
   },
   "outputs": [
    {
     "data": {
      "text/plain": [
       "0.1135"
      ]
     },
     "execution_count": 21,
     "metadata": {},
     "output_type": "execute_result"
    }
   ],
   "source": [
    "classifier.score(y,c)"
   ]
  },
  {
   "cell_type": "code",
   "execution_count": 22,
   "metadata": {
    "scrolled": true
   },
   "outputs": [
    {
     "data": {
      "text/plain": [
       "0.116"
      ]
     },
     "execution_count": 22,
     "metadata": {},
     "output_type": "execute_result"
    }
   ],
   "source": [
    "classifier.score(yTrain, cTrain)"
   ]
  },
  {
   "cell_type": "code",
   "execution_count": 35,
   "metadata": {},
   "outputs": [],
   "source": [
    "%autoreload\n",
    "from neural_net import Deep_NN, sigma\n",
    "Y_0 = np.matrix(np.random.normal(size=(10,1000)))\n",
    "K1 = np.matrix(np.random.normal(size=(10,10)))\n",
    "K2 = np.matrix(np.random.normal(size=(10,10)))\n",
    "b1, b2 = 0.1, 0.2\n",
    "w_true = np.matrix(np.random.normal(size=(5,10)))\n",
    "c_obs = w_true*(sigma(K1, Y_0, b1) + sigma(K2, Y_0 + sigma(K1, Y_0, b1), b2))\n",
    "c_obs = np.matrix(pd.get_dummies(pd.DataFrame(c_obs).idxmax(axis=0)).values).T\n",
    "layers = 2"
   ]
  },
  {
   "cell_type": "code",
   "execution_count": 39,
   "metadata": {},
   "outputs": [],
   "source": [
    "classifier = Deep_NN(c_obs, Y_0, layers=2, alpha=0.5, beta=0.5, gamma=0.5, mat_init=\"random\")"
   ]
  },
  {
   "cell_type": "code",
   "execution_count": 40,
   "metadata": {},
   "outputs": [],
   "source": [
    "classifier.fit(200, tolerance=0.0001)"
   ]
  },
  {
   "cell_type": "code",
   "execution_count": 41,
   "metadata": {},
   "outputs": [
    {
     "data": {
      "text/plain": [
       "0.599"
      ]
     },
     "execution_count": 41,
     "metadata": {},
     "output_type": "execute_result"
    }
   ],
   "source": [
    "classifier.score(Y_0, c_obs)"
   ]
  },
  {
   "cell_type": "code",
   "execution_count": null,
   "metadata": {},
   "outputs": [],
   "source": []
  }
 ],
 "metadata": {
  "kernelspec": {
   "display_name": "Python 3",
   "language": "python",
   "name": "python3"
  },
  "language_info": {
   "codemirror_mode": {
    "name": "ipython",
    "version": 3
   },
   "file_extension": ".py",
   "mimetype": "text/x-python",
   "name": "python",
   "nbconvert_exporter": "python",
   "pygments_lexer": "ipython3",
   "version": "3.7.2"
  }
 },
 "nbformat": 4,
 "nbformat_minor": 2
}
